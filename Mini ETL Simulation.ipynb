{
 "cells": [
  {
   "cell_type": "code",
   "execution_count": 0,
   "metadata": {
    "application/vnd.databricks.v1+cell": {
     "cellMetadata": {
      "byteLimit": 2048000,
      "rowLimit": 10000
     },
     "inputWidgets": {},
     "nuid": "684a64e6-add1-4814-b134-713c1ef801ff",
     "showTitle": false,
     "tableResultSettingsMap": {},
     "title": ""
    }
   },
   "outputs": [],
   "source": [
    "import requests\n",
    "import csv\n",
    "from pyspark.sql import SparkSession\n",
    "\n",
    "def extract_transform_load(api_url, output_file, table_name):\n",
    "    \"\"\"\n",
    "    Mini ETL Simulation:\n",
    "    1. Extract data from API\n",
    "    2. Transform (flatten selected fields)\n",
    "    3. Load into CSV (local)\n",
    "    4. Load into Spark table\n",
    "    \"\"\"\n",
    "    try:\n",
    "        # Extract\n",
    "        response = requests.get(api_url, timeout=10)\n",
    "        response.raise_for_status()\n",
    "        users = response.json()\n",
    "\n",
    "        # Transform\n",
    "        parsed_users = []\n",
    "        for user in users:\n",
    "            parsed_users.append({\n",
    "                \"name\": user.get(\"name\"),\n",
    "                \"username\": user.get(\"username\"),\n",
    "                \"email\": user.get(\"email\"),\n",
    "                \"city\": user.get(\"address\", {}).get(\"city\"),\n",
    "                \"company\": user.get(\"company\", {}).get(\"name\")\n",
    "            })\n",
    "\n",
    "        # ✅ Load to CSV (stored in driver local path)\n",
    "        with open(output_file, mode=\"w\", newline=\"\", encoding=\"utf-8\") as file:\n",
    "            writer = csv.DictWriter(file, fieldnames=[\"name\", \"username\", \"email\", \"city\", \"company\"])\n",
    "            writer.writeheader()\n",
    "            writer.writerows(parsed_users)\n",
    "\n",
    "        print(f\"✅ Data saved to CSV: {output_file}\")\n",
    "\n",
    "        # ✅ Load into Spark table (append mode)\n",
    "        spark = SparkSession.builder.getOrCreate()\n",
    "        df = spark.createDataFrame(parsed_users)\n",
    "        df.write.mode(\"append\").saveAsTable(table_name)\n",
    "\n",
    "        print(f\"✅ Data appended to table: {table_name}\")\n",
    "\n",
    "    except requests.exceptions.RequestException as e:\n",
    "        print(f\"❌ API Request failed: {e}\")\n",
    "    except Exception as e:\n",
    "        print(f\"❌ Error during ETL process: {e}\")\n",
    "\n",
    "\n",
    "# Run ETL\n",
    "if __name__ == \"__main__\":\n",
    "    extract_transform_load(\n",
    "        \"https://jsonplaceholder.typicode.com/users\",\n",
    "        \"api_users.csv\",      # Local file (driver path)\n",
    "        \"api_users_table\"     # Spark SQL table\n",
    "    )\n"
   ]
  },
  {
   "cell_type": "code",
   "execution_count": 0,
   "metadata": {
    "application/vnd.databricks.v1+cell": {
     "cellMetadata": {
      "byteLimit": 2048000,
      "implicitDf": true,
      "rowLimit": 10000
     },
     "inputWidgets": {},
     "nuid": "c3b96213-bf51-4743-81eb-2bdf273ebe2f",
     "showTitle": false,
     "tableResultSettingsMap": {},
     "title": ""
    }
   },
   "outputs": [],
   "source": [
    "%sql\n",
    "SELECT * FROM default.api_users_table;\n"
   ]
  }
 ],
 "metadata": {
  "application/vnd.databricks.v1+notebook": {
   "computePreferences": null,
   "dashboards": [],
   "environmentMetadata": {
    "base_environment": "",
    "environment_version": "3"
   },
   "inputWidgetPreferences": null,
   "language": "python",
   "notebookMetadata": {
    "mostRecentlyExecutedCommandWithImplicitDF": {
     "commandId": 8187806676007127,
     "dataframes": [
      "_sqldf"
     ]
    },
    "pythonIndentUnit": 4
   },
   "notebookName": "Mini ETL Simulation",
   "widgets": {}
  },
  "language_info": {
   "name": "python"
  }
 },
 "nbformat": 4,
 "nbformat_minor": 0
}
